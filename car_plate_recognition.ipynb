{
 "cells": [
  {
   "cell_type": "code",
   "execution_count": 74,
   "metadata": {},
   "outputs": [],
   "source": [
    "import cv2\n",
    "import matplotlib.pyplot as plt\n",
    "import numpy as np\n",
    "%matplotlib inline"
   ]
  },
  {
   "cell_type": "code",
   "execution_count": 75,
   "metadata": {},
   "outputs": [],
   "source": [
    "def direction(source):\n",
    "    cap = cv2.VideoCapture(f'data/{source}.mp4')\n",
    "    \n",
    "    frame_width = int( cap.get(cv2.CAP_PROP_FRAME_WIDTH))\n",
    "    frame_height = int( cap.get( cv2.CAP_PROP_FRAME_HEIGHT))\n",
    "\n",
    "    ret, frame1 = cap.read()\n",
    "    ret, frame2 = cap.read()\n",
    "\n",
    "    list_x=[]\n",
    "\n",
    "    while cap.isOpened() and frame2 is not None:\n",
    "        diff = cv2.absdiff(frame1, frame2)\n",
    "        gray = cv2.cvtColor(diff, cv2.COLOR_BGR2GRAY)\n",
    "        blur = cv2.GaussianBlur(gray, (5,5), 0)\n",
    "        _, thresh = cv2.threshold(blur, 25, 255, cv2.THRESH_BINARY)\n",
    "        dilated = cv2.dilate(thresh, None, iterations=3)\n",
    "        contours, _ = cv2.findContours(dilated, cv2.RETR_TREE, cv2.CHAIN_APPROX_SIMPLE)\n",
    "\n",
    "        areas = [cv2.contourArea(c) for c in contours]        \n",
    "        if len(areas) != 0:\n",
    "            max_index = np.argmax(areas)\n",
    "            cnt=contours[max_index]  \n",
    "        \n",
    "        (x, y, w, h) = cv2.boundingRect(cnt)\n",
    "        list_x.append(x)\n",
    "\n",
    "        frame1 = frame2\n",
    "        ret, frame2 = cap.read()\n",
    "\n",
    "        if cv2.waitKey(40) == 27:\n",
    "            break\n",
    "\n",
    "    list_dir = []\n",
    "    list_dir = [list_x[i+1] - list_x[i] for i in range(0, len(list_x)-1)]\n",
    "    list_dir = list(filter(lambda x: x != 0 and abs(x) < 25, list_dir))\n",
    "\n",
    "    if sum(list_dir) > 0:\n",
    "        print(f'{source}: машина выехала')\n",
    "    else:\n",
    "        print(f'{source}: машина заехала')        \n",
    "\n",
    "    cv2.destroyAllWindows()\n",
    "    cap.release()\n",
    "    out.release()"
   ]
  },
  {
   "cell_type": "code",
   "execution_count": 76,
   "metadata": {},
   "outputs": [
    {
     "name": "stdout",
     "output_type": "stream",
     "text": [
      "video_01: машина выехала\n",
      "video_02: машина заехала\n",
      "video_03: машина выехала\n",
      "video_04: машина заехала\n",
      "video_05: машина заехала\n",
      "video_06: машина выехала\n",
      "video_07: машина заехала\n",
      "video_08: машина выехала\n"
     ]
    }
   ],
   "source": [
    "direction('video_01')\n",
    "direction('video_02')\n",
    "direction('video_03')\n",
    "direction('video_04')\n",
    "direction('video_05')\n",
    "direction('video_06')\n",
    "direction('video_07')\n",
    "direction('video_08')"
   ]
  }
 ],
 "metadata": {
  "celltoolbar": "Slideshow",
  "kernelspec": {
   "display_name": "Python 3 (ipykernel)",
   "language": "python",
   "name": "python3"
  },
  "language_info": {
   "codemirror_mode": {
    "name": "ipython",
    "version": 3
   },
   "file_extension": ".py",
   "mimetype": "text/x-python",
   "name": "python",
   "nbconvert_exporter": "python",
   "pygments_lexer": "ipython3",
   "version": "3.9.7"
  }
 },
 "nbformat": 4,
 "nbformat_minor": 2
}
